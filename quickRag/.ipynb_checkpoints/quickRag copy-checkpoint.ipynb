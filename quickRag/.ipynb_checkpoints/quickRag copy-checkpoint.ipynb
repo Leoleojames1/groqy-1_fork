{
 "cells": [
  {
   "cell_type": "markdown",
   "metadata": {},
   "source": [
    "# Final Version of the GravRag Populator:"
   ]
  },
  {
   "cell_type": "code",
   "execution_count": null,
   "metadata": {},
   "outputs": [],
   "source": [
    "!pip install requests\n",
    "!pip install markdown\n",
    "!pip install beautifulsoup4"
   ]
  },
  {
   "cell_type": "code",
   "execution_count": 1,
   "metadata": {},
   "outputs": [],
   "source": [
    "import os\n",
    "import time\n",
    "import logging\n",
    "from typing import List, Dict, Any, Optional\n",
    "from dataclasses import dataclass\n",
    "import requests\n",
    "import markdown\n",
    "from bs4 import BeautifulSoup\n",
    "\n",
    "# Initialize logging\n",
    "logging.basicConfig(level=logging.INFO)\n",
    "logger = logging.getLogger(__name__)\n",
    "\n",
    "# API endpoint information\n",
    "baseUrl = \"http://localhost:8000\"\n",
    "\n",
    "# Function to send request with metadata\n",
    "def send_request_with_metadata(title, metadata):\n",
    "    url = f\"{baseUrl}/gravrag/create_memory\"  # Use your existing API endpoint\n",
    "    headers = {\"Content-Type\": \"application/json\"}\n",
    "    body = {\"content\": title, \"metadata\": metadata}\n",
    "    \n",
    "    try:\n",
    "        response = requests.post(\n",
    "            url,\n",
    "            headers=headers,\n",
    "            data=json.dumps(body)  # Convert the body to JSON format\n",
    "        )\n",
    "        \n",
    "        if response.status_code == 200:\n",
    "            return response.json()  # Return the response as JSON\n",
    "        else:\n",
    "            logger.error(f\"Request failed with status code {response.status_code}: {response.text}\")\n",
    "            return {\"error\": f\"Request failed with status code {response.status_code}\", \"details\": response.text}\n",
    "    except requests.RequestException as e:\n",
    "        logger.error(f\"Request failed: {e}\")\n",
    "        return {\"error\": \"Request failed\", \"details\": str(e)}\n",
    "\n",
    "# Data model to represent sections of the README\n",
    "@dataclass\n",
    "class ReadmeSection:\n",
    "    content: str\n",
    "    heading: str\n",
    "    level: int\n",
    "    parent: Optional[str]\n",
    "    children: List[str]\n",
    "    metadata: Dict[str, Any]\n",
    "\n",
    "# Function to parse README and break it into sections\n",
    "def parse_readme(content: str) -> List[ReadmeSection]:\n",
    "    html = markdown.markdown(content)\n",
    "    soup = BeautifulSoup(html, 'html.parser')\n",
    "    sections = []\n",
    "    section_stack = []\n",
    "    current_section = None\n",
    "\n",
    "    for elem in soup.find_all(['h1', 'h2', 'h3', 'h4', 'h5', 'h6', 'p', 'pre', 'ul', 'ol']):\n",
    "        if elem.name.startswith('h'):\n",
    "            level = int(elem.name[1])\n",
    "            while section_stack and section_stack[-1].level >= level:\n",
    "                section_stack.pop()\n",
    "\n",
    "            current_section = ReadmeSection(\n",
    "                content='',\n",
    "                heading=elem.text.strip(),\n",
    "                level=level,\n",
    "                parent=section_stack[-1].heading if section_stack else None,\n",
    "                children=[],\n",
    "                metadata={}\n",
    "            )\n",
    "\n",
    "            # Append to parent only if there's a parent\n",
    "            if section_stack:\n",
    "                section_stack[-1].children.append(current_section.heading)\n",
    "\n",
    "            sections.append(current_section)\n",
    "            section_stack.append(current_section)\n",
    "        else:\n",
    "            if current_section:\n",
    "                current_section.content += \" \" + elem.get_text(separator=\" \", strip=True)\n",
    "\n",
    "\n",
    "    #Strip any leading/trailing spaces in content for clean output\n",
    "    for section in sections:\n",
    "        section.content = section.content.strip()\n",
    "\n",
    "    return sections\n",
    "\n",
    "\n",
    "# Function to process README and send sections to API\n",
    "def process_readme_and_send(readme_path: str):\n",
    "    with open(readme_path, 'r', encoding='utf-8') as f:\n",
    "        content = f.read()\n",
    "    \n",
    "    sections = parse_readme(content)\n",
    "    \n",
    "    for section in sections:\n",
    "        # Prepare title and metadata without vectorization\n",
    "        title = section.heading\n",
    "        metadata = {\n",
    "            \"content\": section.content,\n",
    "            \"level\": section.level,\n",
    "            \"parent\": section.parent,\n",
    "            \"children\": section.children,\n",
    "            \"timestamp\": time.time(),\n",
    "            \"access_count\": 0,\n",
    "            \"relevance_score\": 1.0\n",
    "        }\n",
    "\n",
    "        # Send to the API endpoint\n",
    "        response = send_request_with_metadata(title, metadata)\n",
    "        print(f\"Sent section '{title}' to API. Metadata: {metadata}\")\n",
    "    "
   ]
  },
  {
   "cell_type": "markdown",
   "metadata": {},
   "source": [
    "## TO RUN:"
   ]
  },
  {
   "cell_type": "code",
   "execution_count": null,
   "metadata": {},
   "outputs": [],
   "source": [
    "process_readme_and_send(\"README.MD\") #THIS IS THE FILE PATH TO THE README"
   ]
  },
  {
   "cell_type": "markdown",
   "metadata": {},
   "source": []
  },
  {
   "cell_type": "markdown",
   "metadata": {},
   "source": [
    "## To recall memories from the GravRAG using only TITLE:\n",
    "\n",
    "- SCROLL DOWN FOR THE TEST RUN EXAMPLE"
   ]
  },
  {
   "cell_type": "code",
   "execution_count": null,
   "metadata": {},
   "outputs": [],
   "source": [
    "import requests\n",
    "import json\n",
    "baseUrl = \"http://localhost:8000\"\n",
    "def recall_memories_using_title(title: str, top_k):\n",
    "    url = f\"{baseUrl}/gravrag/recall_memory\"\n",
    "    headers = {\n",
    "        \"Content-Type\": \"application/json\"\n",
    "    }\n",
    "    body = {\n",
    "        \"query\": title,\n",
    "        \"top_k\": top_k\n",
    "    }\n",
    "\n",
    "    try:\n",
    "        response = requests.post(url, headers=headers, data=json.dumps(body))\n",
    "\n",
    "        if response.status_code == 200:\n",
    "            return response.json()  # Return the JSON response if successful\n",
    "        else:\n",
    "            return {\n",
    "                \"error\": f\"Request failed with status code {response.status_code}\",\n",
    "                \"details\": response.text\n",
    "            }\n",
    "    except requests.RequestException as e:\n",
    "        return {\n",
    "            \"error\": \"Request failed\",\n",
    "            \"details\": str(e)\n",
    "        }\n"
   ]
  },
  {
   "cell_type": "markdown",
   "metadata": {},
   "source": [
    "## TEST RUN:\n",
    "\n",
    "### TITLE - TITLE THAT YOU WANT TO SEARCH FOR: \n",
    "\n",
    "### TOP_K - NUMBER OF ITEMS YOU WANT TO RETRIEVE"
   ]
  },
  {
   "cell_type": "code",
   "execution_count": null,
   "metadata": {},
   "outputs": [],
   "source": [
    "title = \"'User Schema' to API. Metadata\" # EXAMPLE TITLE\n",
    "top_k = 5 #NUMBER OF ITEMS I WANT TO GET FROM DATABASE\n",
    "\n",
    "print(recall_memories_using_title(title,top_k))"
   ]
  },
  {
   "cell_type": "code",
   "execution_count": null,
   "metadata": {},
   "outputs": [],
   "source": []
  },
  {
   "cell_type": "markdown",
   "metadata": {},
   "source": [
    "## To recall memories from the GravRAG using Title AND Metadata:\n",
    "\n",
    "- SCROLL DOWN FOR THE TEST RUN EXAMPLE\n",
    "\n",
    "### Please Note that the Metadata MUST be EXACTLY THE SAME as the one stored inside the DATABASE"
   ]
  },
  {
   "cell_type": "code",
   "execution_count": null,
   "metadata": {},
   "outputs": [],
   "source": [
    "import requests\n",
    "import json\n",
    "baseUrl = \"http://localhost:8000\"\n",
    "def recall_memories_using_title_and_metadata(title: str, top_k):\n",
    "    \n",
    "    url = f\"{baseUrl}/gravrag/recall_with_metadata\"\n",
    "    headers = {\n",
    "        \"Content-Type\": \"application/json\"\n",
    "    }\n",
    "    body = {\n",
    "        \"query\": title,\n",
    "        \"top_k\": top_k\n",
    "    }\n",
    "\n",
    "    try:\n",
    "        response = requests.post(url, headers=headers, data=json.dumps(body))\n",
    "\n",
    "        if response.status_code == 200:\n",
    "            return response.json()  # Return the JSON response if successful\n",
    "        else:\n",
    "            return {\n",
    "                \"error\": f\"Request failed with status code {response.status_code}\",\n",
    "                \"details\": response.text\n",
    "            }\n",
    "    except requests.RequestException as e:\n",
    "        return {\n",
    "            \"error\": \"Request failed\",\n",
    "            \"details\": str(e)\n",
    "        }\n"
   ]
  },
  {
   "cell_type": "markdown",
   "metadata": {},
   "source": [
    "## TEST RUN:\n",
    "\n",
    "### TITLE - TITLE THAT YOU WANT TO SEARCH FOR: \n",
    "\n",
    "### TOP_K - NUMBER OF ITEMS YOU WANT TO RETRIEVE\n",
    "\n",
    "### METADATA - METADATA THAT YOU WANT TO SEARCH FOR"
   ]
  },
  {
   "cell_type": "code",
   "execution_count": null,
   "metadata": {},
   "outputs": [],
   "source": [
    "title = \"'User Schema' to API. Metadata\" # EXAMPLE TITLE\n",
    "top_k = 5 #NUMBER OF ITEMS I WANT TO GET FROM DATABASE\n",
    "metadata = {} #metadata example\n",
    "\n",
    "recall_memories_using_title_and_metadata(title,top_k,metadata) "
   ]
  }
 ],
 "metadata": {
  "kernelspec": {
   "display_name": "Python 3 (ipykernel)",
   "language": "python",
   "name": "python3"
  },
  "language_info": {
   "codemirror_mode": {
    "name": "ipython",
    "version": 3
   },
   "file_extension": ".py",
   "mimetype": "text/x-python",
   "name": "python",
   "nbconvert_exporter": "python",
   "pygments_lexer": "ipython3",
   "version": "3.11.4"
  }
 },
 "nbformat": 4,
 "nbformat_minor": 2
}
